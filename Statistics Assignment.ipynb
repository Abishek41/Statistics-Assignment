{
 "cells": [
  {
   "cell_type": "markdown",
   "id": "e1dcac84",
   "metadata": {},
   "source": [
    "Q1. What is Statistics?\n",
    "\n",
    "Ans: Statistics is a science of collecting, organising and analysing data. It is a branch of mathematics that deals with the collection, analysis the data."
   ]
  },
  {
   "cell_type": "markdown",
   "id": "35dc3aee",
   "metadata": {},
   "source": [
    "Q2. Define the different types of statistics and give an example of when each type might be used.\n",
    "\n",
    "Ans: There are two different types of statistics:\n",
    "     \n",
    "     a. Descriptive statistics: It means organising and summarization of data.\n",
    "         \n",
    "         for example: A business might use descriptive statistics to summarize the sales data for a product.\n",
    "         \n",
    "     b. Influencial statistics: It means using data that can be use for making conclusion.\n",
    "     \n",
    "         for example: They could then use inferential statistics to test the hypothesis that the sales of the product."
   ]
  },
  {
   "cell_type": "markdown",
   "id": "d71c74bd",
   "metadata": {},
   "source": [
    "Q3. What are the different types of data and how do they differ from each other? Provide an example of\n",
    "each type of data.\n",
    "\n",
    "Ans: There are two types of data:\n",
    "\n",
    "    a. Quantitative variable: This is type of data that can be measure numerically. They may be a discrete variable or continuous variable.\n",
    "    \n",
    "        for exaple: Number of banks accounts, Number of children.\n",
    "        \n",
    "    b. Qualititative variable: This is a data which is based upon categorical variable. They may be Nominal or Ordinal data.\n",
    "    \n",
    "        for example: Grades in a class.\n",
    "        \n",
    "       \n",
    "    \n",
    "     \n",
    "     \n",
    "    \n",
    "         "
   ]
  },
  {
   "cell_type": "markdown",
   "id": "b68a3cb3",
   "metadata": {},
   "source": [
    "Q4. Categorise the following datasets with respect to quantitative and qualitative data types:\n",
    "\n",
    "(i) Grading in exam: A+, A, B+, B, C+, C, D, E\n",
    "\n",
    "(ii) Colour of mangoes: yellow, green, orange, red\n",
    "\n",
    "(iii) Height data of a class: [178.9, 179, 179.5, 176, 177.2, 178.3, 175.8,...]\n",
    "\n",
    "(iv) Number of mangoes exported by a farm: [500, 600, 478, 672, ...]\n",
    "\n",
    "Ans: (i) Grading in exam: Qualitative\n",
    "\n",
    "     (ii) Colour of mangoes: Qualitative\n",
    "     \n",
    "     (iii) Height data of a class: Quantitative\n",
    "     \n",
    "     (iv) Number of mangoes exported by a farm: Quantitative\n",
    "     \n",
    "     "
   ]
  },
  {
   "cell_type": "markdown",
   "id": "1a95c97d",
   "metadata": {},
   "source": [
    "Q5. Explain the concept of levels of measurement and give an example of a variable for each level.\n",
    "\n",
    "Ans: Nominal: The nominal level of measurement is the least informative level of measurement. Data at the nominal level can only be categorized. For example, the variable \"gender\" can be categorized as \"male\" or \"female.\"\n",
    "\n",
    "Ordinal: The ordinal level of measurement is more informative than the nominal level of measurement. Data at the ordinal level can be categorized and ranked. For example, the variable \"grade point average\" can be categorized as \"A,\" \"B,\" \"C,\" \"D,\" or \"F.\"\n",
    "\n",
    "Interval: The interval level of measurement is more informative than the ordinal level of measurement. Data at the interval level can be categorized, ranked, and the intervals between values are equal. For example, the variable \"temperature\" can be measured in degrees Celsius or Fahrenheit.\n",
    "\n",
    "Ratio: The ratio level of measurement is the most informative level of measurement. Data at the ratio level can be categorized, ranked, the intervals between values are equal, and there is a true zero point. For example, the variable \"height\" can be measured in inches or centimeters."
   ]
  },
  {
   "cell_type": "markdown",
   "id": "cb399024",
   "metadata": {},
   "source": [
    "Q6. Why is it important to understand the level of measurement when analyzing data? Provide an\n",
    "example to illustrate your answer.\n",
    "\n",
    "Ans: It is important to understand the level of measurement when analyzing data because the level of measurement determines the type of statistical analysis that can be used. For example, the nominal level of measurement is the least informative level of measurement. Data at the nominal level can only be categorized. For example, the variable \"gender\" can be categorized as \"male\" or \"female.\" The ordinal level of measurement is more informative than the nominal level of measurement. Data at the ordinal level can be categorized and ranked. For example, the variable \"grade point average\" can be categorized as \"A,\" \"B,\" \"C,\" \"D,\" or \"F.\" The interval level of measurement is more informative than the ordinal level of measurement. Data at the interval level can be categorized, ranked, and the intervals between values are equal. For example, the variable \"temperature\" can be measured in degrees Celsius or Fahrenheit. The ratio level of measurement is the most informative level of measurement. Data at the ratio level can be categorized, ranked, the intervals between values are equal, and there is a true zero point. For example, the variable \"height\" can be measured in inches or centimeters."
   ]
  },
  {
   "cell_type": "markdown",
   "id": "35f21c81",
   "metadata": {},
   "source": [
    "Q7. How nominal data type is different from ordinal data type.\n",
    "\n",
    "Ans: Nominal data is the least informative level of measurement, while ordinal data is more informative. The main difference between nominal and ordinal data is that nominal data can only be categorized, while ordinal data can be categorized and ranked."
   ]
  },
  {
   "cell_type": "markdown",
   "id": "21ebf851",
   "metadata": {},
   "source": [
    "Q8. Which type of plot can be used to display data in terms of range?\n",
    "\n",
    "Ans: Histogram can be one the plot that can be used to display data in range."
   ]
  },
  {
   "cell_type": "markdown",
   "id": "8b76745b",
   "metadata": {},
   "source": [
    "Q9. Describe the difference between descriptive and inferential statistics. Give an example of each\n",
    "type of statistics and explain how they are used.\n",
    "\n",
    "Ans: Descriptive and inferential statistics are both important tools for data analysis. Descriptive statistics can be used to summarize the data and find patterns in the data. Inferential statistics can be used to make inferences about the population from which the data was collected. By using both descriptive and inferential statistics, you can get a better understanding of the data and make more informed decisions.\n",
    "\n",
    "There are two different types of statistics:\n",
    "\n",
    " a. Descriptive statistics: It means organising and summarization of data.\n",
    "\n",
    "     for example: A business might use descriptive statistics to summarize the sales data for a product.\n",
    "\n",
    " b. Influencial statistics: It means using data that can be use for making conclusion.\n",
    "\n",
    "     for example: They could then use inferential statistics to test the hypothesis that the sales of the product."
   ]
  },
  {
   "cell_type": "markdown",
   "id": "3587f55a",
   "metadata": {},
   "source": [
    "Q10. What are some common measures of central tendency and variability used in statistics? Explain\n",
    "how each measure can be used to describe a dataset.\n",
    "\n",
    "Ans: Measures of central tendency\n",
    "\n",
    "    Mean: The mean is the average of the data. It is calculated by adding up all the values in the data set and dividing by the number of values.\n",
    "\n",
    "    Median: The median is the middle value in the data set. It is calculated by arranging the data in ascending order and finding the value in the middle.\n",
    "\n",
    "    Mode: The mode is the most frequently occurring value in the data set. It can be calculated by finding the value that appears the most often in the data set.\n",
    "\n",
    "Measures of variability\n",
    "\n",
    "    Range: The range is the difference between the largest and smallest values in the data set. It is calculated by subtracting the smallest value from the largest value.\n",
    "\n",
    "    Variance: The variance is a measure of how spread out the data is. It is calculated by taking the average of the squared differences between each value and the mean.\n",
    "\n",
    "    Standard deviation: The standard deviation is a measure of how spread out the data is. It is calculated by taking the square root of the variance.\n",
    "\n",
    "\n",
    "    For example, the mean can be used to describe the average height of a group of people. The median can be used to describe the middle height of a group of people. The mode can be used to describe the most common height of a group of people. The range can be used to describe the difference between the tallest and shortest person in a group. The variance can be used to describe how spread out the heights of the people in a group are. The standard deviation can be used to describe how spread out the heights of the people in a group are."
   ]
  }
 ],
 "metadata": {
  "kernelspec": {
   "display_name": "Python 3 (ipykernel)",
   "language": "python",
   "name": "python3"
  },
  "language_info": {
   "codemirror_mode": {
    "name": "ipython",
    "version": 3
   },
   "file_extension": ".py",
   "mimetype": "text/x-python",
   "name": "python",
   "nbconvert_exporter": "python",
   "pygments_lexer": "ipython3",
   "version": "3.10.8"
  }
 },
 "nbformat": 4,
 "nbformat_minor": 5
}
